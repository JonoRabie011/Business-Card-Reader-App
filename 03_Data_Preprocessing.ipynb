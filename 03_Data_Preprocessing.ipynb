{
 "cells": [
  {
   "cell_type": "code",
   "execution_count": 1,
   "id": "65593177",
   "metadata": {},
   "outputs": [],
   "source": [
    "import numpy as np\n",
    "import pandas as pd\n",
    "import string\n",
    "import re #regular expression"
   ]
  },
  {
   "cell_type": "code",
   "execution_count": 2,
   "id": "cfe7cb59",
   "metadata": {},
   "outputs": [],
   "source": [
    "with open(\"businessCard.txt\", mode=\"r\", encoding=\"utf8\", errors=\"ignore\") as f:\n",
    "    text = f.read()"
   ]
  },
  {
   "cell_type": "code",
   "execution_count": 3,
   "id": "e2eed6f6",
   "metadata": {},
   "outputs": [
    {
     "name": "stdout",
     "output_type": "stream",
     "text": [
      "id\ttext\ttag\n",
      "000.jpeg\t \tO\n",
      "000.jpeg\t.\tO\n",
      "000.jpeg\t040-4852\tB-PHONE\n",
      "000.jpeg\t\"8881,\"\tI-PHONE\n",
      "000.jpeg\t90309\tB-PHONE\n",
      "000.jpeg\t52549\tI-PHONE\n",
      "000.jpeg\tFi\tO\n",
      "000.jpeg\t/laurelsoverseaseducation\tO\n",
      "000.jpeg\t@:\tO\n",
      "000.jpeg\tLAURELS\tB-ORG\n",
      "000.jpeg\tOVERSEAS\tI-ORG\n",
      "000.jpeg\tEDUCATIONAL\tI-ORG\n",
      "000.jpeg\tCONSULTANCY\tI-ORG\n",
      "000.jpeg\tPVT.\tI-ORG\n",
      "000.jpeg\tLTD.\tI-ORG\n",
      "000.jpeg\tSea\tO\n",
      "000.jpeg\t|\tO\n",
      "000.jpeg\tU.K\tO\n",
      "000.jpeg\tAUSTRALIA\tO\n",
      "000.jpeg\tCANADA\tO\n",
      "000.jpeg\tIRELAND\tO\n",
      "000.jpeg\t \tO\n",
      "000.jpeg\t \tO\n",
      "000.jpeg\t \tO\n"
     ]
    }
   ],
   "source": [
    "print(text[:480])"
   ]
  },
  {
   "cell_type": "code",
   "execution_count": 4,
   "id": "417317cf",
   "metadata": {},
   "outputs": [
    {
     "data": {
      "text/plain": [
       "'id\\ttext\\ttag\\n000.jpeg\\t \\tO\\n000.jpeg\\t.\\tO\\n000.jpeg\\t040-4852\\tB-PHONE\\n000.jpeg\\t\"8881,\"\\tI-PHONE\\n000.jpeg\\t90309\\tB-PHONE\\n000.jpeg\\t52549\\tI-PHONE\\n000.jpeg\\tFi\\tO\\n000.jpeg\\t/laurelsoverseaseducation\\tO\\n000.jpeg\\t@:\\tO\\n000.jpeg\\tLAURELS\\tB-ORG\\n000.jpeg\\tOVERSEAS\\tI-ORG\\n000.jpeg\\tEDUCATIONAL\\tI-ORG\\n000.jpeg\\tCONSULTANCY\\tI-ORG\\n000.jpeg\\tPVT.\\tI-ORG\\n000.jpeg\\tLTD.\\tI-ORG\\n000.jpeg\\tSea\\tO\\n000.jpeg\\t|\\tO\\n000.jpeg\\tU.K\\tO\\n000.jpeg\\tAUSTRALIA\\tO\\n000.jpeg\\tCANADA\\tO\\n000.jpeg\\tIRELAND\\tO\\n000.jpeg'"
      ]
     },
     "execution_count": 4,
     "metadata": {},
     "output_type": "execute_result"
    }
   ],
   "source": [
    "text[:450]"
   ]
  },
  {
   "cell_type": "code",
   "execution_count": 5,
   "id": "0d9180ea",
   "metadata": {
    "scrolled": false
   },
   "outputs": [],
   "source": [
    "data = list(map(lambda x: x.split(\"\\t\"), text.split(\"\\n\")))"
   ]
  },
  {
   "cell_type": "code",
   "execution_count": 6,
   "id": "6ff4e16f",
   "metadata": {},
   "outputs": [
    {
     "data": {
      "text/plain": [
       "[['id', 'text', 'tag'],\n",
       " ['000.jpeg', ' ', 'O'],\n",
       " ['000.jpeg', '.', 'O'],\n",
       " ['000.jpeg', '040-4852', 'B-PHONE'],\n",
       " ['000.jpeg', '\"8881,\"', 'I-PHONE'],\n",
       " ['000.jpeg', '90309', 'B-PHONE'],\n",
       " ['000.jpeg', '52549', 'I-PHONE'],\n",
       " ['000.jpeg', 'Fi', 'O'],\n",
       " ['000.jpeg', '/laurelsoverseaseducation', 'O'],\n",
       " ['000.jpeg', '@:', 'O'],\n",
       " ['000.jpeg', 'LAURELS', 'B-ORG'],\n",
       " ['000.jpeg', 'OVERSEAS', 'I-ORG'],\n",
       " ['000.jpeg', 'EDUCATIONAL', 'I-ORG'],\n",
       " ['000.jpeg', 'CONSULTANCY', 'I-ORG'],\n",
       " ['000.jpeg', 'PVT.', 'I-ORG'],\n",
       " ['000.jpeg', 'LTD.', 'I-ORG'],\n",
       " ['000.jpeg', 'Sea', 'O'],\n",
       " ['000.jpeg', '|', 'O'],\n",
       " ['000.jpeg', 'U.K', 'O'],\n",
       " ['000.jpeg', 'AUSTRALIA', 'O']]"
      ]
     },
     "execution_count": 6,
     "metadata": {},
     "output_type": "execute_result"
    }
   ],
   "source": [
    "data[:20]"
   ]
  },
  {
   "cell_type": "code",
   "execution_count": 7,
   "id": "afa54b92",
   "metadata": {},
   "outputs": [
    {
     "data": {
      "text/html": [
       "<div>\n",
       "<style scoped>\n",
       "    .dataframe tbody tr th:only-of-type {\n",
       "        vertical-align: middle;\n",
       "    }\n",
       "\n",
       "    .dataframe tbody tr th {\n",
       "        vertical-align: top;\n",
       "    }\n",
       "\n",
       "    .dataframe thead th {\n",
       "        text-align: right;\n",
       "    }\n",
       "</style>\n",
       "<table border=\"1\" class=\"dataframe\">\n",
       "  <thead>\n",
       "    <tr style=\"text-align: right;\">\n",
       "      <th></th>\n",
       "      <th>id</th>\n",
       "      <th>text</th>\n",
       "      <th>tag</th>\n",
       "    </tr>\n",
       "  </thead>\n",
       "  <tbody>\n",
       "    <tr>\n",
       "      <th>0</th>\n",
       "      <td>000.jpeg</td>\n",
       "      <td></td>\n",
       "      <td>O</td>\n",
       "    </tr>\n",
       "    <tr>\n",
       "      <th>1</th>\n",
       "      <td>000.jpeg</td>\n",
       "      <td>.</td>\n",
       "      <td>O</td>\n",
       "    </tr>\n",
       "    <tr>\n",
       "      <th>2</th>\n",
       "      <td>000.jpeg</td>\n",
       "      <td>040-4852</td>\n",
       "      <td>B-PHONE</td>\n",
       "    </tr>\n",
       "    <tr>\n",
       "      <th>3</th>\n",
       "      <td>000.jpeg</td>\n",
       "      <td>\"8881,\"</td>\n",
       "      <td>I-PHONE</td>\n",
       "    </tr>\n",
       "    <tr>\n",
       "      <th>4</th>\n",
       "      <td>000.jpeg</td>\n",
       "      <td>90309</td>\n",
       "      <td>B-PHONE</td>\n",
       "    </tr>\n",
       "  </tbody>\n",
       "</table>\n",
       "</div>"
      ],
      "text/plain": [
       "         id      text      tag\n",
       "0  000.jpeg                  O\n",
       "1  000.jpeg         .        O\n",
       "2  000.jpeg  040-4852  B-PHONE\n",
       "3  000.jpeg   \"8881,\"  I-PHONE\n",
       "4  000.jpeg     90309  B-PHONE"
      ]
     },
     "execution_count": 7,
     "metadata": {},
     "output_type": "execute_result"
    }
   ],
   "source": [
    "df = pd.DataFrame(data[1:], columns=data[0])\n",
    "\n",
    "df.head()"
   ]
  },
  {
   "cell_type": "code",
   "execution_count": 8,
   "id": "52b47c48",
   "metadata": {},
   "outputs": [
    {
     "data": {
      "text/plain": [
       "' \\t\\n\\r\\x0b\\x0c'"
      ]
     },
     "execution_count": 8,
     "metadata": {},
     "output_type": "execute_result"
    }
   ],
   "source": [
    "string.whitespace"
   ]
  },
  {
   "cell_type": "code",
   "execution_count": 9,
   "id": "8bf5b874",
   "metadata": {},
   "outputs": [
    {
     "data": {
      "text/plain": [
       "'!\"#$%&\\'()*+,-./:;<=>?@[\\\\]^_`{|}~'"
      ]
     },
     "execution_count": 9,
     "metadata": {},
     "output_type": "execute_result"
    }
   ],
   "source": [
    "string.punctuation"
   ]
  },
  {
   "cell_type": "code",
   "execution_count": 10,
   "id": "7e0a3566",
   "metadata": {},
   "outputs": [],
   "source": [
    "whitespace = string.whitespace\n",
    "punctuation = '!#$%&\\'()*+:;<=>?[\\\\]^`{|}~'\n",
    "\n",
    "tableWhiteSpace = str.maketrans(\"\", \"\", whitespace)\n",
    "tablePunctuation = str.maketrans(\"\", \"\", punctuation)\n",
    "\n",
    "def clean_text(txt):\n",
    "    text = str(txt)\n",
    "    text = text.lower()\n",
    "    removewhitespace = text.translate(tableWhiteSpace)\n",
    "    removepunctuation = removewhitespace.translate(tablePunctuation)\n",
    "    \n",
    "    return str(removepunctuation)"
   ]
  },
  {
   "cell_type": "code",
   "execution_count": 11,
   "id": "1906db10",
   "metadata": {},
   "outputs": [],
   "source": [
    "df[\"text\"] = df[\"text\"].apply(clean_text)"
   ]
  },
  {
   "cell_type": "code",
   "execution_count": 12,
   "id": "6d9efc7d",
   "metadata": {},
   "outputs": [
    {
     "name": "stderr",
     "output_type": "stream",
     "text": [
      "C:\\Users\\my\\AppData\\Local\\Temp\\ipykernel_17832\\644399253.py:2: SettingWithCopyWarning: \n",
      "A value is trying to be set on a copy of a slice from a DataFrame\n",
      "\n",
      "See the caveats in the documentation: https://pandas.pydata.org/pandas-docs/stable/user_guide/indexing.html#returning-a-view-versus-a-copy\n",
      "  dataClean.dropna(inplace=True)\n"
     ]
    },
    {
     "data": {
      "text/html": [
       "<div>\n",
       "<style scoped>\n",
       "    .dataframe tbody tr th:only-of-type {\n",
       "        vertical-align: middle;\n",
       "    }\n",
       "\n",
       "    .dataframe tbody tr th {\n",
       "        vertical-align: top;\n",
       "    }\n",
       "\n",
       "    .dataframe thead th {\n",
       "        text-align: right;\n",
       "    }\n",
       "</style>\n",
       "<table border=\"1\" class=\"dataframe\">\n",
       "  <thead>\n",
       "    <tr style=\"text-align: right;\">\n",
       "      <th></th>\n",
       "      <th>id</th>\n",
       "      <th>text</th>\n",
       "      <th>tag</th>\n",
       "    </tr>\n",
       "  </thead>\n",
       "  <tbody>\n",
       "    <tr>\n",
       "      <th>1</th>\n",
       "      <td>000.jpeg</td>\n",
       "      <td>.</td>\n",
       "      <td>O</td>\n",
       "    </tr>\n",
       "    <tr>\n",
       "      <th>2</th>\n",
       "      <td>000.jpeg</td>\n",
       "      <td>040-4852</td>\n",
       "      <td>B-PHONE</td>\n",
       "    </tr>\n",
       "    <tr>\n",
       "      <th>3</th>\n",
       "      <td>000.jpeg</td>\n",
       "      <td>\"8881,\"</td>\n",
       "      <td>I-PHONE</td>\n",
       "    </tr>\n",
       "    <tr>\n",
       "      <th>4</th>\n",
       "      <td>000.jpeg</td>\n",
       "      <td>90309</td>\n",
       "      <td>B-PHONE</td>\n",
       "    </tr>\n",
       "    <tr>\n",
       "      <th>5</th>\n",
       "      <td>000.jpeg</td>\n",
       "      <td>52549</td>\n",
       "      <td>I-PHONE</td>\n",
       "    </tr>\n",
       "    <tr>\n",
       "      <th>6</th>\n",
       "      <td>000.jpeg</td>\n",
       "      <td>fi</td>\n",
       "      <td>O</td>\n",
       "    </tr>\n",
       "    <tr>\n",
       "      <th>7</th>\n",
       "      <td>000.jpeg</td>\n",
       "      <td>/laurelsoverseaseducation</td>\n",
       "      <td>O</td>\n",
       "    </tr>\n",
       "    <tr>\n",
       "      <th>8</th>\n",
       "      <td>000.jpeg</td>\n",
       "      <td>@</td>\n",
       "      <td>O</td>\n",
       "    </tr>\n",
       "    <tr>\n",
       "      <th>9</th>\n",
       "      <td>000.jpeg</td>\n",
       "      <td>laurels</td>\n",
       "      <td>B-ORG</td>\n",
       "    </tr>\n",
       "    <tr>\n",
       "      <th>10</th>\n",
       "      <td>000.jpeg</td>\n",
       "      <td>overseas</td>\n",
       "      <td>I-ORG</td>\n",
       "    </tr>\n",
       "  </tbody>\n",
       "</table>\n",
       "</div>"
      ],
      "text/plain": [
       "          id                       text      tag\n",
       "1   000.jpeg                          .        O\n",
       "2   000.jpeg                   040-4852  B-PHONE\n",
       "3   000.jpeg                    \"8881,\"  I-PHONE\n",
       "4   000.jpeg                      90309  B-PHONE\n",
       "5   000.jpeg                      52549  I-PHONE\n",
       "6   000.jpeg                         fi        O\n",
       "7   000.jpeg  /laurelsoverseaseducation        O\n",
       "8   000.jpeg                          @        O\n",
       "9   000.jpeg                    laurels    B-ORG\n",
       "10  000.jpeg                   overseas    I-ORG"
      ]
     },
     "execution_count": 12,
     "metadata": {},
     "output_type": "execute_result"
    }
   ],
   "source": [
    "dataClean = df.query(\"text != '' \")\n",
    "dataClean.dropna(inplace=True)\n",
    "\n",
    "dataClean.head(10)"
   ]
  },
  {
   "cell_type": "code",
   "execution_count": null,
   "id": "3f4a690c",
   "metadata": {},
   "outputs": [],
   "source": []
  }
 ],
 "metadata": {
  "kernelspec": {
   "display_name": "Python 3 (ipykernel)",
   "language": "python",
   "name": "python3"
  },
  "language_info": {
   "codemirror_mode": {
    "name": "ipython",
    "version": 3
   },
   "file_extension": ".py",
   "mimetype": "text/x-python",
   "name": "python",
   "nbconvert_exporter": "python",
   "pygments_lexer": "ipython3",
   "version": "3.9.13"
  }
 },
 "nbformat": 4,
 "nbformat_minor": 5
}
